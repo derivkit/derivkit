{
 "cells": [
  {
   "cell_type": "markdown",
   "id": "517d2870",
   "metadata": {},
   "source": [
    "# Fisher and DALI demo\n",
    "\n",
    "This demo illustrates how to use the helper tools in <code>forecast_kit</code> to facilitate scientific forecasting.\n",
    "\n",
    "The forecasting tools can return a Fisher matrix, and the 3-dimensional and 4-dimensional tensors of the doublet-DALI approximation.\n",
    "\n",
    "The required inputs are:\n",
    "- **A function defining your observable(s):** This should take as input a single list of parameter values, corresponding to your model parameters. It should return a list of observables. A one-parameter model, or a single observable, should still be structured as a list containing one item.\n",
    "- **The fiducial values of your model parameter(s):** This should likewise be a single list of parameter values. The ordering of the parameters should match the input of your observable function.\n",
    "- **The covariance matrix of the observable(s):** The ordering of the entries in the covariance matrix should match the output of your observable function."
   ]
  },
  {
   "cell_type": "code",
   "execution_count": 1,
   "id": "02c2fa4c",
   "metadata": {},
   "outputs": [],
   "source": [
    "import numpy as np\n",
    "from derivkit.forecast_kit import ForecastKit"
   ]
  },
  {
   "cell_type": "code",
   "execution_count": 2,
   "id": "32df1d61",
   "metadata": {},
   "outputs": [],
   "source": [
    "# Define a function: it returns two observables as a function of two model parameters.\n",
    "def myf(paramList):\n",
    "    x = paramList[0]\n",
    "    y = paramList[1]\n",
    "    obs1 = x + y\n",
    "    obs2 = x * x + 2 * y * y\n",
    "    obsList = np.array([obs1,obs2])\n",
    "    return obsList"
   ]
  },
  {
   "cell_type": "code",
   "execution_count": 3,
   "id": "d5cf0830",
   "metadata": {},
   "outputs": [],
   "source": [
    "# Prepare the three inputs necessary for the forecasting tool:\n",
    "# observable function, fiducial parameter values, and observable covariance matrix.\n",
    "observables = myf\n",
    "fiducial_values = [1, 2]\n",
    "covmat = np.array([[1,0],[0,1]])"
   ]
  },
  {
   "cell_type": "code",
   "execution_count": 4,
   "id": "800a166f",
   "metadata": {},
   "outputs": [],
   "source": [
    "# Initialize the forecasting utility using these inputs.\n",
    "forecaster = ForecastKit(observables, fiducial_values, covmat)"
   ]
  },
  {
   "cell_type": "code",
   "execution_count": 5,
   "id": "04656b0a",
   "metadata": {},
   "outputs": [
    {
     "name": "stderr",
     "output_type": "stream",
     "text": [
      "/hpc/group/cosmology/blc56/Soft/derivkit/src/derivkit/adaptive_fit.py:514: RuntimeWarning: Falling back to finite difference derivative.\n",
      "  warnings.warn(\"Falling back to finite difference derivative.\", RuntimeWarning)\n",
      "/hpc/group/cosmology/blc56/Soft/derivkit/src/derivkit/adaptive_fit.py:247: RuntimeWarning: [AdaptiveFitDerivative] Falling back to finite differences because polynomial fit did not meet tolerance (last max residual 0.324 vs tol 0.05).\n",
      "  warnings.warn(\n",
      "/hpc/group/cosmology/blc56/Soft/derivkit/src/derivkit/adaptive_fit.py:247: RuntimeWarning: [AdaptiveFitDerivative] Falling back to finite differences because polynomial fit did not meet tolerance (last max residual 0.0879 vs tol 0.05).\n",
      "  warnings.warn(\n"
     ]
    },
    {
     "name": "stdout",
     "output_type": "stream",
     "text": [
      "[[ 58.33333333  58.33333333]\n",
      " [ 58.33333333 350.        ]]\n"
     ]
    },
    {
     "name": "stderr",
     "output_type": "stream",
     "text": [
      "/hpc/group/cosmology/blc56/Soft/derivkit/src/derivkit/adaptive_fit.py:514: RuntimeWarning: Falling back to finite difference derivative.\n",
      "  warnings.warn(\"Falling back to finite difference derivative.\", RuntimeWarning)\n",
      "/hpc/group/cosmology/blc56/Soft/derivkit/src/derivkit/adaptive_fit.py:247: RuntimeWarning: [AdaptiveFitDerivative] Falling back to finite differences because polynomial fit did not meet tolerance (last max residual 0.324 vs tol 0.05).\n",
      "  warnings.warn(\n",
      "/hpc/group/cosmology/blc56/Soft/derivkit/src/derivkit/adaptive_fit.py:247: RuntimeWarning: [AdaptiveFitDerivative] Falling back to finite differences because polynomial fit did not meet tolerance (last max residual 1.29 vs tol 0.05).\n",
      "  warnings.warn(\n"
     ]
    }
   ],
   "source": [
    "# Compute and print all first-order derivatives of the observables.\n",
    "first_order_derivs = forecaster.get_derivatives(derivative_order = 1)\n",
    "print(first_order_derivs)"
   ]
  },
  {
   "cell_type": "code",
   "execution_count": 6,
   "id": "76c7b5a7",
   "metadata": {},
   "outputs": [
    {
     "name": "stderr",
     "output_type": "stream",
     "text": [
      "/hpc/group/cosmology/blc56/Soft/derivkit/src/derivkit/adaptive_fit.py:514: RuntimeWarning: Falling back to finite difference derivative.\n",
      "  warnings.warn(\"Falling back to finite difference derivative.\", RuntimeWarning)\n",
      "/hpc/group/cosmology/blc56/Soft/derivkit/src/derivkit/adaptive_fit.py:247: RuntimeWarning: [AdaptiveFitDerivative] Falling back to finite differences because polynomial fit did not meet tolerance (last max residual 0.352 vs tol 0.05).\n",
      "  warnings.warn(\n",
      "/hpc/group/cosmology/blc56/Soft/derivkit/src/derivkit/adaptive_fit.py:247: RuntimeWarning: [AdaptiveFitDerivative] Falling back to finite differences because polynomial fit did not meet tolerance (last max residual 0.088 vs tol 0.05).\n",
      "  warnings.warn(\n",
      "/hpc/group/cosmology/blc56/Soft/derivkit/src/derivkit/adaptive_fit.py:247: RuntimeWarning: [AdaptiveFitDerivative] Falling back to finite differences because polynomial fit did not meet tolerance (last max residual 0.647 vs tol 0.05).\n",
      "  warnings.warn(\n",
      "/hpc/group/cosmology/blc56/Soft/derivkit/src/derivkit/adaptive_fit.py:247: RuntimeWarning: [AdaptiveFitDerivative] Falling back to finite differences because polynomial fit did not meet tolerance (last max residual 0.324 vs tol 0.05).\n",
      "  warnings.warn(\n",
      "/hpc/group/cosmology/blc56/Soft/derivkit/src/derivkit/adaptive_fit.py:247: RuntimeWarning: [AdaptiveFitDerivative] Falling back to finite differences because polynomial fit did not meet tolerance (last max residual 0.0879 vs tol 0.05).\n",
      "  warnings.warn(\n",
      "/hpc/group/cosmology/blc56/Soft/derivkit/src/derivkit/adaptive_fit.py:514: RuntimeWarning: Falling back to finite difference derivative.\n",
      "  warnings.warn(\"Falling back to finite difference derivative.\", RuntimeWarning)\n",
      "/hpc/group/cosmology/blc56/Soft/derivkit/src/derivkit/adaptive_fit.py:247: RuntimeWarning: [AdaptiveFitDerivative] Falling back to finite differences because polynomial fit did not meet tolerance (last max residual 0.647 vs tol 0.05).\n",
      "  warnings.warn(\n",
      "/hpc/group/cosmology/blc56/Soft/derivkit/src/derivkit/adaptive_fit.py:247: RuntimeWarning: [AdaptiveFitDerivative] Falling back to finite differences because polynomial fit did not meet tolerance (last max residual 1.94 vs tol 0.05).\n",
      "  warnings.warn(\n",
      "/hpc/group/cosmology/blc56/Soft/derivkit/src/derivkit/adaptive_fit.py:247: RuntimeWarning: [AdaptiveFitDerivative] Falling back to finite differences because polynomial fit did not meet tolerance (last max residual 0.324 vs tol 0.05).\n",
      "  warnings.warn(\n",
      "/hpc/group/cosmology/blc56/Soft/derivkit/src/derivkit/adaptive_fit.py:247: RuntimeWarning: [AdaptiveFitDerivative] Falling back to finite differences because polynomial fit did not meet tolerance (last max residual 1.29 vs tol 0.05).\n",
      "  warnings.warn(\n"
     ]
    },
    {
     "name": "stdout",
     "output_type": "stream",
     "text": [
      "[[[-1.25000000e+04 -1.25000000e+04]\n",
      "  [ 1.36969341e-12  1.11738146e-12]]\n",
      "\n",
      " [[ 2.73938681e-12  1.78781034e-11]\n",
      "  [-1.25000000e+04 -7.50000000e+04]]]\n"
     ]
    },
    {
     "name": "stderr",
     "output_type": "stream",
     "text": [
      "/hpc/group/cosmology/blc56/Soft/derivkit/src/derivkit/adaptive_fit.py:514: RuntimeWarning: Falling back to finite difference derivative.\n",
      "  warnings.warn(\"Falling back to finite difference derivative.\", RuntimeWarning)\n",
      "/hpc/group/cosmology/blc56/Soft/derivkit/src/derivkit/adaptive_fit.py:247: RuntimeWarning: [AdaptiveFitDerivative] Falling back to finite differences because polynomial fit did not meet tolerance (last max residual 0.352 vs tol 0.05).\n",
      "  warnings.warn(\n",
      "/hpc/group/cosmology/blc56/Soft/derivkit/src/derivkit/adaptive_fit.py:247: RuntimeWarning: [AdaptiveFitDerivative] Falling back to finite differences because polynomial fit did not meet tolerance (last max residual 1.41 vs tol 0.05).\n",
      "  warnings.warn(\n"
     ]
    }
   ],
   "source": [
    "# Compute and print all second-order derivatives of the observables.\n",
    "second_order_derivs = forecaster.get_derivatives(derivative_order = 2)\n",
    "print(second_order_derivs)"
   ]
  },
  {
   "cell_type": "code",
   "execution_count": 7,
   "id": "b107a136",
   "metadata": {},
   "outputs": [
    {
     "name": "stderr",
     "output_type": "stream",
     "text": [
      "/hpc/group/cosmology/blc56/Soft/derivkit/src/derivkit/adaptive_fit.py:514: RuntimeWarning: Falling back to finite difference derivative.\n",
      "  warnings.warn(\"Falling back to finite difference derivative.\", RuntimeWarning)\n",
      "/hpc/group/cosmology/blc56/Soft/derivkit/src/derivkit/adaptive_fit.py:247: RuntimeWarning: [AdaptiveFitDerivative] Falling back to finite differences because polynomial fit did not meet tolerance (last max residual 0.324 vs tol 0.05).\n",
      "  warnings.warn(\n",
      "/hpc/group/cosmology/blc56/Soft/derivkit/src/derivkit/adaptive_fit.py:247: RuntimeWarning: [AdaptiveFitDerivative] Falling back to finite differences because polynomial fit did not meet tolerance (last max residual 0.0879 vs tol 0.05).\n",
      "  warnings.warn(\n"
     ]
    },
    {
     "name": "stdout",
     "output_type": "stream",
     "text": [
      "Fisher matrix: \n",
      "2\n",
      "[[  6805.55555556  23819.44444444]\n",
      " [ 23819.44444444 125902.77777778]]\n"
     ]
    },
    {
     "name": "stderr",
     "output_type": "stream",
     "text": [
      "/hpc/group/cosmology/blc56/Soft/derivkit/src/derivkit/adaptive_fit.py:514: RuntimeWarning: Falling back to finite difference derivative.\n",
      "  warnings.warn(\"Falling back to finite difference derivative.\", RuntimeWarning)\n",
      "/hpc/group/cosmology/blc56/Soft/derivkit/src/derivkit/adaptive_fit.py:247: RuntimeWarning: [AdaptiveFitDerivative] Falling back to finite differences because polynomial fit did not meet tolerance (last max residual 0.324 vs tol 0.05).\n",
      "  warnings.warn(\n",
      "/hpc/group/cosmology/blc56/Soft/derivkit/src/derivkit/adaptive_fit.py:247: RuntimeWarning: [AdaptiveFitDerivative] Falling back to finite differences because polynomial fit did not meet tolerance (last max residual 1.29 vs tol 0.05).\n",
      "  warnings.warn(\n"
     ]
    }
   ],
   "source": [
    "# Compute and print the Fisher matrix.\n",
    "fisher_matrix = forecaster.get_forecast_tensors(forecast_order = 1)\n",
    "print('Fisher matrix: ')\n",
    "print(fisher_matrix.ndim)\n",
    "print(fisher_matrix)"
   ]
  },
  {
   "cell_type": "code",
   "execution_count": 8,
   "id": "fc0eb2b7",
   "metadata": {},
   "outputs": [
    {
     "name": "stderr",
     "output_type": "stream",
     "text": [
      "/hpc/group/cosmology/blc56/Soft/derivkit/src/derivkit/adaptive_fit.py:514: RuntimeWarning: Falling back to finite difference derivative.\n",
      "  warnings.warn(\"Falling back to finite difference derivative.\", RuntimeWarning)\n",
      "/hpc/group/cosmology/blc56/Soft/derivkit/src/derivkit/adaptive_fit.py:247: RuntimeWarning: [AdaptiveFitDerivative] Falling back to finite differences because polynomial fit did not meet tolerance (last max residual 0.324 vs tol 0.05).\n",
      "  warnings.warn(\n",
      "/hpc/group/cosmology/blc56/Soft/derivkit/src/derivkit/adaptive_fit.py:247: RuntimeWarning: [AdaptiveFitDerivative] Falling back to finite differences because polynomial fit did not meet tolerance (last max residual 0.0879 vs tol 0.05).\n",
      "  warnings.warn(\n",
      "/hpc/group/cosmology/blc56/Soft/derivkit/src/derivkit/adaptive_fit.py:514: RuntimeWarning: Falling back to finite difference derivative.\n",
      "  warnings.warn(\"Falling back to finite difference derivative.\", RuntimeWarning)\n",
      "/hpc/group/cosmology/blc56/Soft/derivkit/src/derivkit/adaptive_fit.py:247: RuntimeWarning: [AdaptiveFitDerivative] Falling back to finite differences because polynomial fit did not meet tolerance (last max residual 0.324 vs tol 0.05).\n",
      "  warnings.warn(\n",
      "/hpc/group/cosmology/blc56/Soft/derivkit/src/derivkit/adaptive_fit.py:247: RuntimeWarning: [AdaptiveFitDerivative] Falling back to finite differences because polynomial fit did not meet tolerance (last max residual 1.29 vs tol 0.05).\n",
      "  warnings.warn(\n",
      "/hpc/group/cosmology/blc56/Soft/derivkit/src/derivkit/adaptive_fit.py:514: RuntimeWarning: Falling back to finite difference derivative.\n",
      "  warnings.warn(\"Falling back to finite difference derivative.\", RuntimeWarning)\n",
      "/hpc/group/cosmology/blc56/Soft/derivkit/src/derivkit/adaptive_fit.py:247: RuntimeWarning: [AdaptiveFitDerivative] Falling back to finite differences because polynomial fit did not meet tolerance (last max residual 0.352 vs tol 0.05).\n",
      "  warnings.warn(\n",
      "/hpc/group/cosmology/blc56/Soft/derivkit/src/derivkit/adaptive_fit.py:247: RuntimeWarning: [AdaptiveFitDerivative] Falling back to finite differences because polynomial fit did not meet tolerance (last max residual 0.088 vs tol 0.05).\n",
      "  warnings.warn(\n",
      "/hpc/group/cosmology/blc56/Soft/derivkit/src/derivkit/adaptive_fit.py:247: RuntimeWarning: [AdaptiveFitDerivative] Falling back to finite differences because polynomial fit did not meet tolerance (last max residual 0.647 vs tol 0.05).\n",
      "  warnings.warn(\n",
      "/hpc/group/cosmology/blc56/Soft/derivkit/src/derivkit/adaptive_fit.py:247: RuntimeWarning: [AdaptiveFitDerivative] Falling back to finite differences because polynomial fit did not meet tolerance (last max residual 0.324 vs tol 0.05).\n",
      "  warnings.warn(\n",
      "/hpc/group/cosmology/blc56/Soft/derivkit/src/derivkit/adaptive_fit.py:247: RuntimeWarning: [AdaptiveFitDerivative] Falling back to finite differences because polynomial fit did not meet tolerance (last max residual 0.0879 vs tol 0.05).\n",
      "  warnings.warn(\n",
      "/hpc/group/cosmology/blc56/Soft/derivkit/src/derivkit/adaptive_fit.py:514: RuntimeWarning: Falling back to finite difference derivative.\n",
      "  warnings.warn(\"Falling back to finite difference derivative.\", RuntimeWarning)\n",
      "/hpc/group/cosmology/blc56/Soft/derivkit/src/derivkit/adaptive_fit.py:247: RuntimeWarning: [AdaptiveFitDerivative] Falling back to finite differences because polynomial fit did not meet tolerance (last max residual 0.647 vs tol 0.05).\n",
      "  warnings.warn(\n",
      "/hpc/group/cosmology/blc56/Soft/derivkit/src/derivkit/adaptive_fit.py:247: RuntimeWarning: [AdaptiveFitDerivative] Falling back to finite differences because polynomial fit did not meet tolerance (last max residual 1.94 vs tol 0.05).\n",
      "  warnings.warn(\n",
      "/hpc/group/cosmology/blc56/Soft/derivkit/src/derivkit/adaptive_fit.py:247: RuntimeWarning: [AdaptiveFitDerivative] Falling back to finite differences because polynomial fit did not meet tolerance (last max residual 0.324 vs tol 0.05).\n",
      "  warnings.warn(\n",
      "/hpc/group/cosmology/blc56/Soft/derivkit/src/derivkit/adaptive_fit.py:247: RuntimeWarning: [AdaptiveFitDerivative] Falling back to finite differences because polynomial fit did not meet tolerance (last max residual 1.29 vs tol 0.05).\n",
      "  warnings.warn(\n"
     ]
    },
    {
     "name": "stdout",
     "output_type": "stream",
     "text": [
      "G tensor: \n",
      "3\n",
      "[[[-1.45833333e+06 -5.10416667e+06]\n",
      "  [ 1.45079367e-10  4.70982294e-10]]\n",
      "\n",
      " [[ 1.20268693e-09  6.41713375e-09]\n",
      "  [-5.10416667e+06 -2.69791667e+07]]]\n",
      "H tensor: \n",
      "4\n",
      "[[[[ 3.12500000e+08 -3.10884358e-08]\n",
      "   [-2.57718628e-07  1.09375000e+09]]\n",
      "\n",
      "  [[-3.10884358e-08  3.12460136e-24]\n",
      "   [ 2.37287814e-23 -1.00924777e-07]]]\n",
      "\n",
      "\n",
      " [[[-2.57718628e-07  2.37287814e-23]\n",
      "   [ 3.27130821e-22 -1.37510009e-06]]\n",
      "\n",
      "  [[ 1.09375000e+09 -1.00924777e-07]\n",
      "   [-1.37510009e-06  5.78125000e+09]]]]\n"
     ]
    },
    {
     "name": "stderr",
     "output_type": "stream",
     "text": [
      "/hpc/group/cosmology/blc56/Soft/derivkit/src/derivkit/adaptive_fit.py:514: RuntimeWarning: Falling back to finite difference derivative.\n",
      "  warnings.warn(\"Falling back to finite difference derivative.\", RuntimeWarning)\n",
      "/hpc/group/cosmology/blc56/Soft/derivkit/src/derivkit/adaptive_fit.py:247: RuntimeWarning: [AdaptiveFitDerivative] Falling back to finite differences because polynomial fit did not meet tolerance (last max residual 0.352 vs tol 0.05).\n",
      "  warnings.warn(\n",
      "/hpc/group/cosmology/blc56/Soft/derivkit/src/derivkit/adaptive_fit.py:247: RuntimeWarning: [AdaptiveFitDerivative] Falling back to finite differences because polynomial fit did not meet tolerance (last max residual 1.41 vs tol 0.05).\n",
      "  warnings.warn(\n"
     ]
    }
   ],
   "source": [
    "# Compute and print the DALI \"G\" and \"H\" tensors of the doublet-DALI approximation.\n",
    "DALI_G, DALI_H = forecaster.get_forecast_tensors(forecast_order = 2)\n",
    "print('G tensor: ')\n",
    "print(DALI_G.ndim)\n",
    "print(DALI_G)\n",
    "print('H tensor: ')\n",
    "print(DALI_H.ndim)\n",
    "print(DALI_H)"
   ]
  },
  {
   "cell_type": "code",
   "execution_count": null,
   "id": "4640334d",
   "metadata": {},
   "outputs": [],
   "source": []
  }
 ],
 "metadata": {
  "kernelspec": {
   "display_name": "derivkit dev",
   "language": "python",
   "name": "derivkit_dev"
  },
  "language_info": {
   "codemirror_mode": {
    "name": "ipython",
    "version": 3
   },
   "file_extension": ".py",
   "mimetype": "text/x-python",
   "name": "python",
   "nbconvert_exporter": "python",
   "pygments_lexer": "ipython3",
   "version": "3.13.5"
  }
 },
 "nbformat": 4,
 "nbformat_minor": 5
}
